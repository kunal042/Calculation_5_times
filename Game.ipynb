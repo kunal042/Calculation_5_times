{
 "cells": [
  {
   "cell_type": "code",
   "execution_count": 1,
   "metadata": {},
   "outputs": [
    {
     "name": "stdout",
     "output_type": "stream",
     "text": [
      "2*5/6-9= -9\n",
      "-7\n",
      "-9\n"
     ]
    }
   ],
   "source": [
    "from random import choice, randint\n",
    "a, b, c, d = (randint(1,9) for _ in range(4))\n",
    "x, y, z = (choice(['+','-','*','/']) for _ in range(3))\n",
    "expr = (f\"{a}{x}{b}{y}{c}{z}{d}\")\n",
    "ans = int(eval(expr))\n",
    "uans = int(input(expr + \"= \"))\n",
    "print(ans)\n",
    "print(uans)\n",
    "      "
   ]
  },
  {
   "cell_type": "code",
   "execution_count": 7,
   "metadata": {},
   "outputs": [
    {
     "name": "stdout",
     "output_type": "stream",
     "text": [
      "1-1*6+2= -3\n",
      "!!!correct!!\n",
      "7-4*8-5= 56\n",
      "!!!Incorrect!!!\n",
      "marks obtained : 0\n",
      "1/6*9-2= -2\n",
      "!!!Incorrect!!!\n",
      "marks obtained : -5\n",
      "3/9*7/5= 56\n",
      "!!!Incorrect!!!\n",
      "marks obtained : -10\n",
      "2-8-7/9= 563\n",
      "!!!Incorrect!!!\n",
      "marks obtained : -15\n",
      "2-4*9+4= 22\n",
      "!!!Incorrect!!!\n",
      "marks obtained : -20\n",
      "Shame on you !!!! You lost the game\n"
     ]
    }
   ],
   "source": [
    "marks  = 0\n",
    "correct = 5\n",
    "incorrect = 0\n",
    "while correct >= 0:\n",
    "    if incorrect == 5:\n",
    "        print(\"Shame on you !!!! You lost the game\")\n",
    "        break\n",
    "    a, b, c, d = (randint(1,9) for _ in range(4))\n",
    "    x, y, z = (choice(['+','-','*','/']) for _ in range(3))\n",
    "    expr = (f\"{a}{x}{b}{y}{c}{z}{d}\")\n",
    "    ans = int(eval(expr))\n",
    "    unans = int(input(expr + \"= \"))\n",
    "    \n",
    "    if unans == ans:\n",
    "        print(\"!!!correct!!\")\n",
    "        marks += 5\n",
    "    else:\n",
    "        incorrect += 1\n",
    "        print(\"!!!Incorrect!!!\")\n",
    "        marks -= 5\n",
    "        print(f\"marks obtained : {marks}\")\n",
    "        continue\n",
    "       \n",
    "        correct =+ 1\n",
    "    \n",
    "else:\n",
    "    print(\"congrats!!! You such a master\")\n",
    "    "
   ]
  },
  {
   "cell_type": "code",
   "execution_count": null,
   "metadata": {},
   "outputs": [],
   "source": []
  },
  {
   "cell_type": "code",
   "execution_count": null,
   "metadata": {},
   "outputs": [],
   "source": []
  }
 ],
 "metadata": {
  "kernelspec": {
   "display_name": "Python 3",
   "language": "python",
   "name": "python3"
  },
  "language_info": {
   "codemirror_mode": {
    "name": "ipython",
    "version": 3
   },
   "file_extension": ".py",
   "mimetype": "text/x-python",
   "name": "python",
   "nbconvert_exporter": "python",
   "pygments_lexer": "ipython3",
   "version": "3.7.1"
  }
 },
 "nbformat": 4,
 "nbformat_minor": 2
}
